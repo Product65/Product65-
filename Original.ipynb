{
 "cells": [
  {
   "cell_type": "code",
   "execution_count": 3,
   "metadata": {
    "scrolled": true
   },
   "outputs": [],
   "source": [
    "import tensorflow as tf\n",
    "from tensorflow import keras\n",
    "import numpy as np"
   ]
  },
  {
   "cell_type": "code",
   "execution_count": 5,
   "metadata": {},
   "outputs": [
    {
     "name": "stdout",
     "output_type": "stream",
     "text": [
      "WARNING:tensorflow:No training configuration found in the save file, so the model was *not* compiled. Compile it manually.\n",
      "WARNING:tensorflow:No training configuration found in the save file, so the model was *not* compiled. Compile it manually.\n",
      "WARNING:tensorflow:No training configuration found in the save file, so the model was *not* compiled. Compile it manually.\n",
      "WARNING:tensorflow:No training configuration found in the save file, so the model was *not* compiled. Compile it manually.\n"
     ]
    }
   ],
   "source": [
    "class Model(tf.keras.Model):\n",
    "    def __init__(self, nn):\n",
    "        super(Model, self).__init__()\n",
    "        self.nn = nn\n",
    "model1 = Model(keras.models.load_model(\"model1.h5\"))\n",
    "model1.compile(optimizer=tf.keras.optimizers.Adam(1e-4))\n",
    "\n",
    "model2 = Model(keras.models.load_model(\"model2.h5\"))\n",
    "model2.compile(optimizer=tf.keras.optimizers.Adam(1e-4))\n",
    "\n",
    "model3 = Model(keras.models.load_model(\"model3.h5\"))\n",
    "model3.compile(optimizer=tf.keras.optimizers.Adam(1e-4))\n",
    "\n",
    "model4 = Model(keras.models.load_model(\"model4.h5\"))\n",
    "model4.compile(optimizer=tf.keras.optimizers.Adam(1e-4))"
   ]
  },
  {
   "cell_type": "code",
   "execution_count": 10,
   "metadata": {},
   "outputs": [
    {
     "name": "stdout",
     "output_type": "stream",
     "text": [
      "Down\n",
      "Short\n",
      "Corner\n",
      "Difficult\n"
     ]
    }
   ],
   "source": [
    "import cv2\n",
    "my_img = cv2.imread('C:/Users/Aquarius/Desktop/Image4.jpg')\n",
    "my_img = my_img\n",
    "img_tensor = tf.expand_dims(my_img, axis=0)\n",
    "img_tensor = tf.cast(img_tensor, tf.float32) / 255\n",
    "\n",
    "img_tensor = tf.image.resize(img_tensor, (64, 64), method='area')\n",
    "img_numpy = img_tensor.numpy()\n",
    "img_numpy = img_numpy[:, :, :, 0]\n",
    "\n",
    "pred1 = model1.nn(img_tensor)\n",
    "pred1 = tf.squeeze(pred1, axis=0)\n",
    "pred1 = pred1.numpy()\n",
    "ma1 = pred1.max()\n",
    "res1 = np.where(pred1 == ma1)\n",
    "if res1[0][0] == 1:\n",
    "    print('Up')\n",
    "if res1[0][0] == 0:\n",
    "    print('Down')\n",
    "    \n",
    "pred2 = model2.nn(img_tensor)\n",
    "pred2 = tf.squeeze(pred2, axis=0)\n",
    "pred2 = pred2.numpy()\n",
    "ma2 = pred2.max()\n",
    "res2 = np.where(pred2 == ma2)\n",
    "if res2[0][0] == 1:\n",
    "    print('Long')\n",
    "if res2[0][0] == 0:\n",
    "    print('Short')    \n",
    "\n",
    "pred3 = model3.nn(img_tensor)\n",
    "pred3 = tf.squeeze(pred3, axis=0)\n",
    "pred3 = pred3.numpy()\n",
    "ma3 = pred3.max()\n",
    "res3 = np.where(pred3 == ma3)\n",
    "if res3[0][0] == 1:\n",
    "    print('Round')\n",
    "if res3[0][0] == 0:\n",
    "    print('Corner')\n",
    "\n",
    "pred4 = model4.nn(img_tensor)\n",
    "pred4 = tf.squeeze(pred4, axis=0)\n",
    "pred4 = pred4.numpy()\n",
    "ma4 = pred4.max()\n",
    "res4 = np.where(pred4 == ma4)\n",
    "if res4[0][0] == 1:\n",
    "    print('Simple')\n",
    "if res4[0][0] == 0:\n",
    "    print('Difficult')    \n",
    "      "
   ]
  },
  {
   "cell_type": "code",
   "execution_count": null,
   "metadata": {},
   "outputs": [],
   "source": []
  }
 ],
 "metadata": {
  "kernelspec": {
   "display_name": "Python 3 (ipykernel)",
   "language": "python",
   "name": "python3"
  },
  "language_info": {
   "codemirror_mode": {
    "name": "ipython",
    "version": 3
   },
   "file_extension": ".py",
   "mimetype": "text/x-python",
   "name": "python",
   "nbconvert_exporter": "python",
   "pygments_lexer": "ipython3",
   "version": "3.8.18"
  }
 },
 "nbformat": 4,
 "nbformat_minor": 4
}
